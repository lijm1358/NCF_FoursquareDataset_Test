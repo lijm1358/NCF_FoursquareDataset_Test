{
    "cells": [
        {
            "cell_type": "markdown",
            "source": [
                "# Location Check-in Dataset"
            ],
            "metadata": {}
        },
        {
            "cell_type": "markdown",
            "source": [
                "* Dingqui YANG 블로그의 Foursquare Check-in dataset. 2012~2013년 사이 약 18개월간의 전 세계 Check-in dataset. 33,278,683번의 check-in과 266,909의 유저, 3,680,126의 장소들로 이루어져 있음 (77개 국가의 415개의 도시)"
            ],
            "metadata": {}
        },
        {
            "cell_type": "markdown",
            "source": [
                "## 데이터 처리"
            ],
            "metadata": {}
        },
        {
            "cell_type": "markdown",
            "source": [
                "### 파일로부터 데이터 읽기\r\n",
                "* Cities_data : 도시명, 국가 이름, 좌표 등의 정보\r\n",
                "* Checkins_data : 유저-장소 방문 기록\r\n",
                "* POI_data : 각 장소에 대한 ID, 좌표, 카테고리 정보"
            ],
            "metadata": {}
        },
        {
            "cell_type": "code",
            "execution_count": 1,
            "source": [
                "import pandas as pd\r\n",
                "import numpy as np\r\n",
                "import tensorflow as tf"
            ],
            "outputs": [],
            "metadata": {}
        },
        {
            "cell_type": "code",
            "execution_count": 2,
            "source": [
                "Cities_data = pd.read_csv('D:\\dataset_TIST2015\\Data\\dataset_TIST2015_Cities.txt', sep='\\t', lineterminator='\\n', names = ['city name', 'Latitude', 'Longitude', 'Country Code', 'Country name', 'City type'])\r\n",
                "Checkins_data = pd.read_csv('D:\\dataset_TIST2015\\Data\\dataset_TIST2015_Checkins.txt', sep='\\t', lineterminator='\\n', names = ['User ID', 'Venue ID', 'UTC Time', 'Timezone Offset'])\r\n",
                "POI_data = pd.read_csv('D:\\dataset_TIST2015\\Data\\dataset_TIST2015_POIs.txt', sep='\\t', lineterminator='\\n', names = ['Venue ID', 'Latitude', 'Longitude', 'Venue category', 'Country Code'])"
            ],
            "outputs": [],
            "metadata": {}
        },
        {
            "cell_type": "code",
            "execution_count": 3,
            "source": [
                "#Cities_data.head()"
            ],
            "outputs": [],
            "metadata": {}
        },
        {
            "cell_type": "code",
            "execution_count": 4,
            "source": [
                "#Checkins_data.head()"
            ],
            "outputs": [],
            "metadata": {}
        },
        {
            "cell_type": "code",
            "execution_count": 5,
            "source": [
                "#POI_data.head()"
            ],
            "outputs": [],
            "metadata": {}
        },
        {
            "cell_type": "markdown",
            "source": [
                "* POI data로부터, country code가 KR인 것들만 추출"
            ],
            "metadata": {}
        },
        {
            "cell_type": "code",
            "execution_count": 6,
            "source": [
                "POI_data_KR = POI_data.loc[POI_data['Country Code'] == 'KR']"
            ],
            "outputs": [],
            "metadata": {}
        },
        {
            "cell_type": "code",
            "execution_count": 7,
            "source": [
                "#POI_data_KR.head()"
            ],
            "outputs": [],
            "metadata": {}
        },
        {
            "cell_type": "markdown",
            "source": [
                "* 장소 카테고리 종류 출력"
            ],
            "metadata": {}
        },
        {
            "cell_type": "code",
            "execution_count": 8,
            "source": [
                "#POI_data_KR['Venue category'].unique()"
            ],
            "outputs": [],
            "metadata": {}
        },
        {
            "cell_type": "markdown",
            "source": [
                "* Checkins_data로부터 한국에 있는 장소들의 ID만 추출"
            ],
            "metadata": {}
        },
        {
            "cell_type": "code",
            "execution_count": 9,
            "source": [
                "Checkins_data_KR = Checkins_data[Checkins_data['Venue ID'].isin(POI_data_KR['Venue ID'].tolist())]\r\n",
                "Checkins_data_KR.head(5)"
            ],
            "outputs": [
                {
                    "output_type": "execute_result",
                    "data": {
                        "text/plain": [
                            "       User ID                  Venue ID                        UTC Time  \\\n",
                            "2719     66388  4edf00ad6da10302870475f7  Tue Apr 03 18:34:05 +0000 2012   \n",
                            "5358     48332  4e6cb240e4cd4bedebb992f4  Tue Apr 03 19:11:43 +0000 2012   \n",
                            "11293   141697  4cf7a6231cfea0939be9e539  Tue Apr 03 20:45:29 +0000 2012   \n",
                            "11995    89193  4e5414fb1f6e850d277ec012  Tue Apr 03 20:54:55 +0000 2012   \n",
                            "12436      317  4b9b0d50f964a520f1ee35e3  Tue Apr 03 21:01:02 +0000 2012   \n",
                            "\n",
                            "       Timezone Offset  \n",
                            "2719               540  \n",
                            "5358               540  \n",
                            "11293              540  \n",
                            "11995              540  \n",
                            "12436              540  "
                        ],
                        "text/html": [
                            "<div>\n",
                            "<style scoped>\n",
                            "    .dataframe tbody tr th:only-of-type {\n",
                            "        vertical-align: middle;\n",
                            "    }\n",
                            "\n",
                            "    .dataframe tbody tr th {\n",
                            "        vertical-align: top;\n",
                            "    }\n",
                            "\n",
                            "    .dataframe thead th {\n",
                            "        text-align: right;\n",
                            "    }\n",
                            "</style>\n",
                            "<table border=\"1\" class=\"dataframe\">\n",
                            "  <thead>\n",
                            "    <tr style=\"text-align: right;\">\n",
                            "      <th></th>\n",
                            "      <th>User ID</th>\n",
                            "      <th>Venue ID</th>\n",
                            "      <th>UTC Time</th>\n",
                            "      <th>Timezone Offset</th>\n",
                            "    </tr>\n",
                            "  </thead>\n",
                            "  <tbody>\n",
                            "    <tr>\n",
                            "      <th>2719</th>\n",
                            "      <td>66388</td>\n",
                            "      <td>4edf00ad6da10302870475f7</td>\n",
                            "      <td>Tue Apr 03 18:34:05 +0000 2012</td>\n",
                            "      <td>540</td>\n",
                            "    </tr>\n",
                            "    <tr>\n",
                            "      <th>5358</th>\n",
                            "      <td>48332</td>\n",
                            "      <td>4e6cb240e4cd4bedebb992f4</td>\n",
                            "      <td>Tue Apr 03 19:11:43 +0000 2012</td>\n",
                            "      <td>540</td>\n",
                            "    </tr>\n",
                            "    <tr>\n",
                            "      <th>11293</th>\n",
                            "      <td>141697</td>\n",
                            "      <td>4cf7a6231cfea0939be9e539</td>\n",
                            "      <td>Tue Apr 03 20:45:29 +0000 2012</td>\n",
                            "      <td>540</td>\n",
                            "    </tr>\n",
                            "    <tr>\n",
                            "      <th>11995</th>\n",
                            "      <td>89193</td>\n",
                            "      <td>4e5414fb1f6e850d277ec012</td>\n",
                            "      <td>Tue Apr 03 20:54:55 +0000 2012</td>\n",
                            "      <td>540</td>\n",
                            "    </tr>\n",
                            "    <tr>\n",
                            "      <th>12436</th>\n",
                            "      <td>317</td>\n",
                            "      <td>4b9b0d50f964a520f1ee35e3</td>\n",
                            "      <td>Tue Apr 03 21:01:02 +0000 2012</td>\n",
                            "      <td>540</td>\n",
                            "    </tr>\n",
                            "  </tbody>\n",
                            "</table>\n",
                            "</div>"
                        ]
                    },
                    "metadata": {},
                    "execution_count": 9
                }
            ],
            "metadata": {}
        },
        {
            "cell_type": "code",
            "execution_count": 10,
            "source": [
                "Checkins_data_KR.groupby('User ID').count()"
            ],
            "outputs": [
                {
                    "output_type": "execute_result",
                    "data": {
                        "text/plain": [
                            "         Venue ID  UTC Time  Timezone Offset\n",
                            "User ID                                     \n",
                            "47             19        19               19\n",
                            "54              1         1                1\n",
                            "55              8         8                8\n",
                            "56              3         3                3\n",
                            "66              1         1                1\n",
                            "...           ...       ...              ...\n",
                            "266092         22        22               22\n",
                            "266298         72        72               72\n",
                            "266514         75        75               75\n",
                            "266624         31        31               31\n",
                            "266677          2         2                2\n",
                            "\n",
                            "[3866 rows x 3 columns]"
                        ],
                        "text/html": [
                            "<div>\n",
                            "<style scoped>\n",
                            "    .dataframe tbody tr th:only-of-type {\n",
                            "        vertical-align: middle;\n",
                            "    }\n",
                            "\n",
                            "    .dataframe tbody tr th {\n",
                            "        vertical-align: top;\n",
                            "    }\n",
                            "\n",
                            "    .dataframe thead th {\n",
                            "        text-align: right;\n",
                            "    }\n",
                            "</style>\n",
                            "<table border=\"1\" class=\"dataframe\">\n",
                            "  <thead>\n",
                            "    <tr style=\"text-align: right;\">\n",
                            "      <th></th>\n",
                            "      <th>Venue ID</th>\n",
                            "      <th>UTC Time</th>\n",
                            "      <th>Timezone Offset</th>\n",
                            "    </tr>\n",
                            "    <tr>\n",
                            "      <th>User ID</th>\n",
                            "      <th></th>\n",
                            "      <th></th>\n",
                            "      <th></th>\n",
                            "    </tr>\n",
                            "  </thead>\n",
                            "  <tbody>\n",
                            "    <tr>\n",
                            "      <th>47</th>\n",
                            "      <td>19</td>\n",
                            "      <td>19</td>\n",
                            "      <td>19</td>\n",
                            "    </tr>\n",
                            "    <tr>\n",
                            "      <th>54</th>\n",
                            "      <td>1</td>\n",
                            "      <td>1</td>\n",
                            "      <td>1</td>\n",
                            "    </tr>\n",
                            "    <tr>\n",
                            "      <th>55</th>\n",
                            "      <td>8</td>\n",
                            "      <td>8</td>\n",
                            "      <td>8</td>\n",
                            "    </tr>\n",
                            "    <tr>\n",
                            "      <th>56</th>\n",
                            "      <td>3</td>\n",
                            "      <td>3</td>\n",
                            "      <td>3</td>\n",
                            "    </tr>\n",
                            "    <tr>\n",
                            "      <th>66</th>\n",
                            "      <td>1</td>\n",
                            "      <td>1</td>\n",
                            "      <td>1</td>\n",
                            "    </tr>\n",
                            "    <tr>\n",
                            "      <th>...</th>\n",
                            "      <td>...</td>\n",
                            "      <td>...</td>\n",
                            "      <td>...</td>\n",
                            "    </tr>\n",
                            "    <tr>\n",
                            "      <th>266092</th>\n",
                            "      <td>22</td>\n",
                            "      <td>22</td>\n",
                            "      <td>22</td>\n",
                            "    </tr>\n",
                            "    <tr>\n",
                            "      <th>266298</th>\n",
                            "      <td>72</td>\n",
                            "      <td>72</td>\n",
                            "      <td>72</td>\n",
                            "    </tr>\n",
                            "    <tr>\n",
                            "      <th>266514</th>\n",
                            "      <td>75</td>\n",
                            "      <td>75</td>\n",
                            "      <td>75</td>\n",
                            "    </tr>\n",
                            "    <tr>\n",
                            "      <th>266624</th>\n",
                            "      <td>31</td>\n",
                            "      <td>31</td>\n",
                            "      <td>31</td>\n",
                            "    </tr>\n",
                            "    <tr>\n",
                            "      <th>266677</th>\n",
                            "      <td>2</td>\n",
                            "      <td>2</td>\n",
                            "      <td>2</td>\n",
                            "    </tr>\n",
                            "  </tbody>\n",
                            "</table>\n",
                            "<p>3866 rows × 3 columns</p>\n",
                            "</div>"
                        ]
                    },
                    "metadata": {},
                    "execution_count": 10
                }
            ],
            "metadata": {}
        },
        {
            "cell_type": "code",
            "execution_count": 11,
            "source": [
                "#Checkins_data_KR.loc[Checkins_data_KR['User ID'] == 9889]\r\n",
                "#Checkins_data_KR.loc[Checkins_data_KR['Venue ID'] == '4b058781f964a520659622e3']"
            ],
            "outputs": [],
            "metadata": {}
        },
        {
            "cell_type": "code",
            "execution_count": 12,
            "source": [
                "#POI_data_KR.loc[POI_data_KR['Venue ID'] == '4b058781f964a520659622e3']"
            ],
            "outputs": [],
            "metadata": {}
        },
        {
            "cell_type": "markdown",
            "source": [
                "* Checkins_data_KR에서 User ID를 row로, Venue ID를 column으로, 방문 횟수가 Dataframe의 값이 되는 Dataframe Checkins_table생성"
            ],
            "metadata": {}
        },
        {
            "cell_type": "code",
            "execution_count": 13,
            "source": [
                "Checkins_table = pd.DataFrame({'UserID': Checkins_data_KR['User ID'], 'VenueID': Checkins_data_KR['Venue ID']})\r\n",
                "Checkins_table = Checkins_table.VenueID.groupby([Checkins_table.UserID, Checkins_table.VenueID]).size().unstack().fillna(0).astype(int)\r\n",
                "Checkins_table = (Checkins_table>0).astype(int)\r\n",
                "Checkins_table_rows = Checkins_table.index.values.tolist()\r\n",
                "Checkins_table_columns = Checkins_table.columns.tolist()\r\n",
                "Checkins_table_numpy = Checkins_table.to_numpy()\r\n",
                "unique_Checkins = np.unique(Checkins_table)"
            ],
            "outputs": [],
            "metadata": {}
        },
        {
            "cell_type": "code",
            "execution_count": 14,
            "source": [
                "#메모리 부족으로 필요없는 변수 제거\r\n",
                "Checkins_data = None"
            ],
            "outputs": [],
            "metadata": {}
        },
        {
            "cell_type": "code",
            "execution_count": 15,
            "source": [
                "from typing import List\r\n",
                "\r\n",
                "def wide_to_long(wide: np.array, possible_ratings: List[int]) -> np.array:\r\n",
                "    def _get_ratings(arr: np.array, rating: int) -> np.array:\r\n",
                "        idx = np.where(arr == rating)\r\n",
                "        return np.vstack(\r\n",
                "            (idx[0], idx[1], np.ones(idx[0].size, dtype=\"int8\") * rating)\r\n",
                "        ).T\r\n",
                "\r\n",
                "    long_arrays = []\r\n",
                "    for r in possible_ratings:\r\n",
                "        long_arrays.append(_get_ratings(wide, r))\r\n",
                "\r\n",
                "    return np.vstack(long_arrays)"
            ],
            "outputs": [],
            "metadata": {}
        },
        {
            "cell_type": "code",
            "execution_count": 16,
            "source": [
                "long_train = wide_to_long(Checkins_table_numpy, unique_Checkins)\r\n",
                "df_train = pd.DataFrame(long_train, columns=[\"user_id\", \"item_id\", \"interaction\"])"
            ],
            "outputs": [],
            "metadata": {}
        },
        {
            "cell_type": "code",
            "execution_count": 17,
            "source": [
                "df_train"
            ],
            "outputs": [
                {
                    "output_type": "execute_result",
                    "data": {
                        "text/plain": [
                            "           user_id  item_id  interaction\n",
                            "0                0        0            0\n",
                            "1                0        1            0\n",
                            "2                0        2            0\n",
                            "3                0        3            0\n",
                            "4                0        4            0\n",
                            "...            ...      ...          ...\n",
                            "197738163     3864    45110            1\n",
                            "197738164     3864    45270            1\n",
                            "197738165     3864    46242            1\n",
                            "197738166     3865      862            1\n",
                            "197738167     3865     4633            1\n",
                            "\n",
                            "[197738168 rows x 3 columns]"
                        ],
                        "text/html": [
                            "<div>\n",
                            "<style scoped>\n",
                            "    .dataframe tbody tr th:only-of-type {\n",
                            "        vertical-align: middle;\n",
                            "    }\n",
                            "\n",
                            "    .dataframe tbody tr th {\n",
                            "        vertical-align: top;\n",
                            "    }\n",
                            "\n",
                            "    .dataframe thead th {\n",
                            "        text-align: right;\n",
                            "    }\n",
                            "</style>\n",
                            "<table border=\"1\" class=\"dataframe\">\n",
                            "  <thead>\n",
                            "    <tr style=\"text-align: right;\">\n",
                            "      <th></th>\n",
                            "      <th>user_id</th>\n",
                            "      <th>item_id</th>\n",
                            "      <th>interaction</th>\n",
                            "    </tr>\n",
                            "  </thead>\n",
                            "  <tbody>\n",
                            "    <tr>\n",
                            "      <th>0</th>\n",
                            "      <td>0</td>\n",
                            "      <td>0</td>\n",
                            "      <td>0</td>\n",
                            "    </tr>\n",
                            "    <tr>\n",
                            "      <th>1</th>\n",
                            "      <td>0</td>\n",
                            "      <td>1</td>\n",
                            "      <td>0</td>\n",
                            "    </tr>\n",
                            "    <tr>\n",
                            "      <th>2</th>\n",
                            "      <td>0</td>\n",
                            "      <td>2</td>\n",
                            "      <td>0</td>\n",
                            "    </tr>\n",
                            "    <tr>\n",
                            "      <th>3</th>\n",
                            "      <td>0</td>\n",
                            "      <td>3</td>\n",
                            "      <td>0</td>\n",
                            "    </tr>\n",
                            "    <tr>\n",
                            "      <th>4</th>\n",
                            "      <td>0</td>\n",
                            "      <td>4</td>\n",
                            "      <td>0</td>\n",
                            "    </tr>\n",
                            "    <tr>\n",
                            "      <th>...</th>\n",
                            "      <td>...</td>\n",
                            "      <td>...</td>\n",
                            "      <td>...</td>\n",
                            "    </tr>\n",
                            "    <tr>\n",
                            "      <th>197738163</th>\n",
                            "      <td>3864</td>\n",
                            "      <td>45110</td>\n",
                            "      <td>1</td>\n",
                            "    </tr>\n",
                            "    <tr>\n",
                            "      <th>197738164</th>\n",
                            "      <td>3864</td>\n",
                            "      <td>45270</td>\n",
                            "      <td>1</td>\n",
                            "    </tr>\n",
                            "    <tr>\n",
                            "      <th>197738165</th>\n",
                            "      <td>3864</td>\n",
                            "      <td>46242</td>\n",
                            "      <td>1</td>\n",
                            "    </tr>\n",
                            "    <tr>\n",
                            "      <th>197738166</th>\n",
                            "      <td>3865</td>\n",
                            "      <td>862</td>\n",
                            "      <td>1</td>\n",
                            "    </tr>\n",
                            "    <tr>\n",
                            "      <th>197738167</th>\n",
                            "      <td>3865</td>\n",
                            "      <td>4633</td>\n",
                            "      <td>1</td>\n",
                            "    </tr>\n",
                            "  </tbody>\n",
                            "</table>\n",
                            "<p>197738168 rows × 3 columns</p>\n",
                            "</div>"
                        ]
                    },
                    "metadata": {},
                    "execution_count": 17
                }
            ],
            "metadata": {}
        },
        {
            "cell_type": "code",
            "execution_count": 18,
            "source": [
                "import tensorflow.keras as keras\r\n",
                "from tensorflow.keras.layers import (\r\n",
                "    Concatenate,\r\n",
                "    Dense,\r\n",
                "    Embedding,\r\n",
                "    Flatten,\r\n",
                "    Input,\r\n",
                "    Multiply,\r\n",
                ")\r\n",
                "from tensorflow.keras.models import Model\r\n",
                "from tensorflow.keras.regularizers import l2\r\n",
                "\r\n",
                "\r\n",
                "def create_ncf(\r\n",
                "    number_of_users: int,\r\n",
                "    number_of_items: int,\r\n",
                "    latent_dim_mf: int = 4,\r\n",
                "    latent_dim_mlp: int = 32,\r\n",
                "    reg_mf: int = 0,\r\n",
                "    reg_mlp: int = 0.01,\r\n",
                "    dense_layers: List[int] = [8, 4],\r\n",
                "    reg_layers: List[int] = [0.01, 0.01],\r\n",
                "    activation_dense: str = \"relu\",\r\n",
                ") -> keras.Model:\r\n",
                "\r\n",
                "    # input layer\r\n",
                "    user = Input(shape=(), dtype=\"int32\", name=\"user_id\")\r\n",
                "    item = Input(shape=(), dtype=\"int32\", name=\"item_id\")\r\n",
                "\r\n",
                "    # embedding layers\r\n",
                "    mf_user_embedding = Embedding(\r\n",
                "        input_dim=number_of_users,\r\n",
                "        output_dim=latent_dim_mf,\r\n",
                "        name=\"mf_user_embedding\",\r\n",
                "        embeddings_initializer=\"RandomNormal\",\r\n",
                "        embeddings_regularizer=l2(reg_mf),\r\n",
                "        input_length=1,\r\n",
                "    )\r\n",
                "    mf_item_embedding = Embedding(\r\n",
                "        input_dim=number_of_items,\r\n",
                "        output_dim=latent_dim_mf,\r\n",
                "        name=\"mf_item_embedding\",\r\n",
                "        embeddings_initializer=\"RandomNormal\",\r\n",
                "        embeddings_regularizer=l2(reg_mf),\r\n",
                "        input_length=1,\r\n",
                "    )\r\n",
                "\r\n",
                "    mlp_user_embedding = Embedding(\r\n",
                "        input_dim=number_of_users,\r\n",
                "        output_dim=latent_dim_mlp,\r\n",
                "        name=\"mlp_user_embedding\",\r\n",
                "        embeddings_initializer=\"RandomNormal\",\r\n",
                "        embeddings_regularizer=l2(reg_mlp),\r\n",
                "        input_length=1,\r\n",
                "    )\r\n",
                "    mlp_item_embedding = Embedding(\r\n",
                "        input_dim=number_of_items,\r\n",
                "        output_dim=latent_dim_mlp,\r\n",
                "        name=\"mlp_item_embedding\",\r\n",
                "        embeddings_initializer=\"RandomNormal\",\r\n",
                "        embeddings_regularizer=l2(reg_mlp),\r\n",
                "        input_length=1,\r\n",
                "    )\r\n",
                "\r\n",
                "    # MF vector\r\n",
                "    mf_user_latent = Flatten()(mf_user_embedding(user))\r\n",
                "    mf_item_latent = Flatten()(mf_item_embedding(item))\r\n",
                "    mf_cat_latent = Multiply()([mf_user_latent, mf_item_latent])\r\n",
                "\r\n",
                "    # MLP vector\r\n",
                "    mlp_user_latent = Flatten()(mlp_user_embedding(user))\r\n",
                "    mlp_item_latent = Flatten()(mlp_item_embedding(item))\r\n",
                "    mlp_cat_latent = Concatenate()([mlp_user_latent, mlp_item_latent])\r\n",
                "\r\n",
                "    mlp_vector = mlp_cat_latent\r\n",
                "\r\n",
                "    # build dense layers for model\r\n",
                "    for i in range(len(dense_layers)):\r\n",
                "        layer = Dense(\r\n",
                "            dense_layers[i],\r\n",
                "            activity_regularizer=l2(reg_layers[i]),\r\n",
                "            activation=activation_dense,\r\n",
                "            name=\"layer%d\" % i,\r\n",
                "        )\r\n",
                "        mlp_vector = layer(mlp_vector)\r\n",
                "\r\n",
                "    predict_layer = Concatenate()([mf_cat_latent, mlp_vector])\r\n",
                "\r\n",
                "    result = Dense(\r\n",
                "        1, activation=\"sigmoid\", kernel_initializer=\"lecun_uniform\", name=\"interaction\"\r\n",
                "    )\r\n",
                "\r\n",
                "    output = result(predict_layer)\r\n",
                "\r\n",
                "    model = Model(\r\n",
                "        inputs=[user, item],\r\n",
                "        outputs=[output],\r\n",
                "    )\r\n",
                "\r\n",
                "    return model"
            ],
            "outputs": [],
            "metadata": {}
        },
        {
            "cell_type": "code",
            "execution_count": 19,
            "source": [
                "from tensorflow.keras.optimizers import Adam\r\n",
                "\r\n",
                "n_users, n_items = Checkins_table.shape\r\n",
                "ncf_model = create_ncf(n_users, n_items)\r\n",
                "\r\n",
                "ncf_model.compile(\r\n",
                "    optimizer=Adam(),\r\n",
                "    loss=\"binary_crossentropy\",\r\n",
                "    metrics=[\r\n",
                "        tf.keras.metrics.TruePositives(name=\"tp\"),\r\n",
                "        tf.keras.metrics.FalsePositives(name=\"fp\"),\r\n",
                "        tf.keras.metrics.TrueNegatives(name=\"tn\"),\r\n",
                "        tf.keras.metrics.FalseNegatives(name=\"fn\"),\r\n",
                "        tf.keras.metrics.BinaryAccuracy(name=\"accuracy\"),\r\n",
                "        tf.keras.metrics.Precision(name=\"precision\"),\r\n",
                "        tf.keras.metrics.Recall(name=\"recall\"),\r\n",
                "        tf.keras.metrics.AUC(name=\"auc\"),\r\n",
                "    ],\r\n",
                ")\r\n",
                "ncf_model._name = \"neural_collaborative_filtering\"\r\n",
                "ncf_model.summary()"
            ],
            "outputs": [
                {
                    "output_type": "stream",
                    "name": "stdout",
                    "text": [
                        "Model: \"neural_collaborative_filtering\"\n",
                        "__________________________________________________________________________________________________\n",
                        "Layer (type)                    Output Shape         Param #     Connected to                     \n",
                        "==================================================================================================\n",
                        "user_id (InputLayer)            [(None,)]            0                                            \n",
                        "__________________________________________________________________________________________________\n",
                        "item_id (InputLayer)            [(None,)]            0                                            \n",
                        "__________________________________________________________________________________________________\n",
                        "mlp_user_embedding (Embedding)  (None, 32)           123712      user_id[0][0]                    \n",
                        "__________________________________________________________________________________________________\n",
                        "mlp_item_embedding (Embedding)  (None, 32)           1636736     item_id[0][0]                    \n",
                        "__________________________________________________________________________________________________\n",
                        "flatten_2 (Flatten)             (None, 32)           0           mlp_user_embedding[0][0]         \n",
                        "__________________________________________________________________________________________________\n",
                        "flatten_3 (Flatten)             (None, 32)           0           mlp_item_embedding[0][0]         \n",
                        "__________________________________________________________________________________________________\n",
                        "mf_user_embedding (Embedding)   (None, 4)            15464       user_id[0][0]                    \n",
                        "__________________________________________________________________________________________________\n",
                        "mf_item_embedding (Embedding)   (None, 4)            204592      item_id[0][0]                    \n",
                        "__________________________________________________________________________________________________\n",
                        "concatenate (Concatenate)       (None, 64)           0           flatten_2[0][0]                  \n",
                        "                                                                 flatten_3[0][0]                  \n",
                        "__________________________________________________________________________________________________\n",
                        "flatten (Flatten)               (None, 4)            0           mf_user_embedding[0][0]          \n",
                        "__________________________________________________________________________________________________\n",
                        "flatten_1 (Flatten)             (None, 4)            0           mf_item_embedding[0][0]          \n",
                        "__________________________________________________________________________________________________\n",
                        "layer0 (Dense)                  (None, 8)            520         concatenate[0][0]                \n",
                        "__________________________________________________________________________________________________\n",
                        "multiply (Multiply)             (None, 4)            0           flatten[0][0]                    \n",
                        "                                                                 flatten_1[0][0]                  \n",
                        "__________________________________________________________________________________________________\n",
                        "layer1 (Dense)                  (None, 4)            36          layer0[0][0]                     \n",
                        "__________________________________________________________________________________________________\n",
                        "concatenate_1 (Concatenate)     (None, 8)            0           multiply[0][0]                   \n",
                        "                                                                 layer1[0][0]                     \n",
                        "__________________________________________________________________________________________________\n",
                        "interaction (Dense)             (None, 1)            9           concatenate_1[0][0]              \n",
                        "==================================================================================================\n",
                        "Total params: 1,981,069\n",
                        "Trainable params: 1,981,069\n",
                        "Non-trainable params: 0\n",
                        "__________________________________________________________________________________________________\n"
                    ]
                }
            ],
            "metadata": {}
        },
        {
            "cell_type": "code",
            "execution_count": 20,
            "source": [
                "def make_tf_dataset(\r\n",
                "    df: pd.DataFrame,\r\n",
                "    targets: List[str],\r\n",
                "    val_split: float = 0.1,\r\n",
                "    batch_size: int = 512,\r\n",
                "    seed=42,\r\n",
                "):\r\n",
                "    \"\"\"Make TensorFlow dataset from Pandas DataFrame.\r\n",
                "    :param df: input DataFrame - only contains features and target(s)\r\n",
                "    :param targets: list of columns names corresponding to targets\r\n",
                "    :param val_split: fraction of the data that should be used for validation\r\n",
                "    :param batch_size: batch size for training\r\n",
                "    :param seed: random seed for shuffling data - `None` won't shuffle the data\"\"\"\r\n",
                "\r\n",
                "    n_val = round(df.shape[0] * val_split)\r\n",
                "    if seed:\r\n",
                "        # shuffle all the rows\r\n",
                "        x = df.sample(frac=1, random_state=seed).to_dict(\"series\")\r\n",
                "    else:\r\n",
                "        x = df.to_dict(\"series\")\r\n",
                "    y = dict()\r\n",
                "    for t in targets:\r\n",
                "        y[t] = x.pop(t)\r\n",
                "    ds = tf.data.Dataset.from_tensor_slices((x, y))\r\n",
                "\r\n",
                "    ds_val = ds.take(n_val).batch(batch_size)\r\n",
                "    ds_train = ds.skip(n_val).batch(batch_size)\r\n",
                "    return ds_train, ds_val"
            ],
            "outputs": [],
            "metadata": {}
        },
        {
            "cell_type": "code",
            "execution_count": 22,
            "source": [
                "df_train = df_train.astype(\"int16\")"
            ],
            "outputs": [],
            "metadata": {}
        },
        {
            "cell_type": "code",
            "execution_count": 23,
            "source": [
                "# create train and validation datasets\r\n",
                "ds_train, ds_val = make_tf_dataset(df_train, [\"interaction\"])"
            ],
            "outputs": [
                {
                    "output_type": "error",
                    "ename": "MemoryError",
                    "evalue": "Unable to allocate 1.47 GiB for an array with shape (197738168,) and data type int64",
                    "traceback": [
                        "\u001b[1;31m---------------------------------------------------------------------------\u001b[0m",
                        "\u001b[1;31mMemoryError\u001b[0m                               Traceback (most recent call last)",
                        "\u001b[1;32m<ipython-input-23-032124b7e14a>\u001b[0m in \u001b[0;36m<module>\u001b[1;34m\u001b[0m\n\u001b[0;32m      1\u001b[0m \u001b[1;31m# create train and validation datasets\u001b[0m\u001b[1;33m\u001b[0m\u001b[1;33m\u001b[0m\u001b[1;33m\u001b[0m\u001b[0m\n\u001b[1;32m----> 2\u001b[1;33m \u001b[0mds_train\u001b[0m\u001b[1;33m,\u001b[0m \u001b[0mds_val\u001b[0m \u001b[1;33m=\u001b[0m \u001b[0mmake_tf_dataset\u001b[0m\u001b[1;33m(\u001b[0m\u001b[0mdf_train\u001b[0m\u001b[1;33m,\u001b[0m \u001b[1;33m[\u001b[0m\u001b[1;34m\"interaction\"\u001b[0m\u001b[1;33m]\u001b[0m\u001b[1;33m)\u001b[0m\u001b[1;33m\u001b[0m\u001b[1;33m\u001b[0m\u001b[0m\n\u001b[0m",
                        "\u001b[1;32m<ipython-input-20-657dfa07885d>\u001b[0m in \u001b[0;36mmake_tf_dataset\u001b[1;34m(df, targets, val_split, batch_size, seed)\u001b[0m\n\u001b[0;32m     16\u001b[0m     \u001b[1;32mif\u001b[0m \u001b[0mseed\u001b[0m\u001b[1;33m:\u001b[0m\u001b[1;33m\u001b[0m\u001b[1;33m\u001b[0m\u001b[0m\n\u001b[0;32m     17\u001b[0m         \u001b[1;31m# shuffle all the rows\u001b[0m\u001b[1;33m\u001b[0m\u001b[1;33m\u001b[0m\u001b[1;33m\u001b[0m\u001b[0m\n\u001b[1;32m---> 18\u001b[1;33m         \u001b[0mx\u001b[0m \u001b[1;33m=\u001b[0m \u001b[0mdf\u001b[0m\u001b[1;33m.\u001b[0m\u001b[0msample\u001b[0m\u001b[1;33m(\u001b[0m\u001b[0mfrac\u001b[0m\u001b[1;33m=\u001b[0m\u001b[1;36m1\u001b[0m\u001b[1;33m,\u001b[0m \u001b[0mrandom_state\u001b[0m\u001b[1;33m=\u001b[0m\u001b[0mseed\u001b[0m\u001b[1;33m)\u001b[0m\u001b[1;33m.\u001b[0m\u001b[0mto_dict\u001b[0m\u001b[1;33m(\u001b[0m\u001b[1;34m\"series\"\u001b[0m\u001b[1;33m)\u001b[0m\u001b[1;33m\u001b[0m\u001b[1;33m\u001b[0m\u001b[0m\n\u001b[0m\u001b[0;32m     19\u001b[0m     \u001b[1;32melse\u001b[0m\u001b[1;33m:\u001b[0m\u001b[1;33m\u001b[0m\u001b[1;33m\u001b[0m\u001b[0m\n\u001b[0;32m     20\u001b[0m         \u001b[0mx\u001b[0m \u001b[1;33m=\u001b[0m \u001b[0mdf\u001b[0m\u001b[1;33m.\u001b[0m\u001b[0mto_dict\u001b[0m\u001b[1;33m(\u001b[0m\u001b[1;34m\"series\"\u001b[0m\u001b[1;33m)\u001b[0m\u001b[1;33m\u001b[0m\u001b[1;33m\u001b[0m\u001b[0m\n",
                        "\u001b[1;32md:\\pythonenv\\mlenv\\lib\\site-packages\\pandas\\core\\generic.py\u001b[0m in \u001b[0;36msample\u001b[1;34m(self, n, frac, replace, weights, random_state, axis)\u001b[0m\n\u001b[0;32m   5349\u001b[0m \u001b[1;33m\u001b[0m\u001b[0m\n\u001b[0;32m   5350\u001b[0m         \u001b[0mlocs\u001b[0m \u001b[1;33m=\u001b[0m \u001b[0mrs\u001b[0m\u001b[1;33m.\u001b[0m\u001b[0mchoice\u001b[0m\u001b[1;33m(\u001b[0m\u001b[0maxis_length\u001b[0m\u001b[1;33m,\u001b[0m \u001b[0msize\u001b[0m\u001b[1;33m=\u001b[0m\u001b[0mn\u001b[0m\u001b[1;33m,\u001b[0m \u001b[0mreplace\u001b[0m\u001b[1;33m=\u001b[0m\u001b[0mreplace\u001b[0m\u001b[1;33m,\u001b[0m \u001b[0mp\u001b[0m\u001b[1;33m=\u001b[0m\u001b[0mweights\u001b[0m\u001b[1;33m)\u001b[0m\u001b[1;33m\u001b[0m\u001b[1;33m\u001b[0m\u001b[0m\n\u001b[1;32m-> 5351\u001b[1;33m         \u001b[1;32mreturn\u001b[0m \u001b[0mself\u001b[0m\u001b[1;33m.\u001b[0m\u001b[0mtake\u001b[0m\u001b[1;33m(\u001b[0m\u001b[0mlocs\u001b[0m\u001b[1;33m,\u001b[0m \u001b[0maxis\u001b[0m\u001b[1;33m=\u001b[0m\u001b[0maxis\u001b[0m\u001b[1;33m)\u001b[0m\u001b[1;33m\u001b[0m\u001b[1;33m\u001b[0m\u001b[0m\n\u001b[0m\u001b[0;32m   5352\u001b[0m \u001b[1;33m\u001b[0m\u001b[0m\n\u001b[0;32m   5353\u001b[0m     \u001b[1;33m@\u001b[0m\u001b[0mfinal\u001b[0m\u001b[1;33m\u001b[0m\u001b[1;33m\u001b[0m\u001b[0m\n",
                        "\u001b[1;32md:\\pythonenv\\mlenv\\lib\\site-packages\\pandas\\core\\generic.py\u001b[0m in \u001b[0;36mtake\u001b[1;34m(self, indices, axis, is_copy, **kwargs)\u001b[0m\n\u001b[0;32m   3584\u001b[0m         \u001b[0mself\u001b[0m\u001b[1;33m.\u001b[0m\u001b[0m_consolidate_inplace\u001b[0m\u001b[1;33m(\u001b[0m\u001b[1;33m)\u001b[0m\u001b[1;33m\u001b[0m\u001b[1;33m\u001b[0m\u001b[0m\n\u001b[0;32m   3585\u001b[0m \u001b[1;33m\u001b[0m\u001b[0m\n\u001b[1;32m-> 3586\u001b[1;33m         new_data = self._mgr.take(\n\u001b[0m\u001b[0;32m   3587\u001b[0m             \u001b[0mindices\u001b[0m\u001b[1;33m,\u001b[0m \u001b[0maxis\u001b[0m\u001b[1;33m=\u001b[0m\u001b[0mself\u001b[0m\u001b[1;33m.\u001b[0m\u001b[0m_get_block_manager_axis\u001b[0m\u001b[1;33m(\u001b[0m\u001b[0maxis\u001b[0m\u001b[1;33m)\u001b[0m\u001b[1;33m,\u001b[0m \u001b[0mverify\u001b[0m\u001b[1;33m=\u001b[0m\u001b[1;32mTrue\u001b[0m\u001b[1;33m\u001b[0m\u001b[1;33m\u001b[0m\u001b[0m\n\u001b[0;32m   3588\u001b[0m         )\n",
                        "\u001b[1;32md:\\pythonenv\\mlenv\\lib\\site-packages\\pandas\\core\\internals\\managers.py\u001b[0m in \u001b[0;36mtake\u001b[1;34m(self, indexer, axis, verify, convert)\u001b[0m\n\u001b[0;32m   1471\u001b[0m                 \u001b[1;32mraise\u001b[0m \u001b[0mException\u001b[0m\u001b[1;33m(\u001b[0m\u001b[1;34m\"Indices must be nonzero and less than the axis length\"\u001b[0m\u001b[1;33m)\u001b[0m\u001b[1;33m\u001b[0m\u001b[1;33m\u001b[0m\u001b[0m\n\u001b[0;32m   1472\u001b[0m \u001b[1;33m\u001b[0m\u001b[0m\n\u001b[1;32m-> 1473\u001b[1;33m         \u001b[0mnew_labels\u001b[0m \u001b[1;33m=\u001b[0m \u001b[0mself\u001b[0m\u001b[1;33m.\u001b[0m\u001b[0maxes\u001b[0m\u001b[1;33m[\u001b[0m\u001b[0maxis\u001b[0m\u001b[1;33m]\u001b[0m\u001b[1;33m.\u001b[0m\u001b[0mtake\u001b[0m\u001b[1;33m(\u001b[0m\u001b[0mindexer\u001b[0m\u001b[1;33m)\u001b[0m\u001b[1;33m\u001b[0m\u001b[1;33m\u001b[0m\u001b[0m\n\u001b[0m\u001b[0;32m   1474\u001b[0m         return self.reindex_indexer(\n\u001b[0;32m   1475\u001b[0m             \u001b[0mnew_axis\u001b[0m\u001b[1;33m=\u001b[0m\u001b[0mnew_labels\u001b[0m\u001b[1;33m,\u001b[0m \u001b[0mindexer\u001b[0m\u001b[1;33m=\u001b[0m\u001b[0mindexer\u001b[0m\u001b[1;33m,\u001b[0m \u001b[0maxis\u001b[0m\u001b[1;33m=\u001b[0m\u001b[0maxis\u001b[0m\u001b[1;33m,\u001b[0m \u001b[0mallow_dups\u001b[0m\u001b[1;33m=\u001b[0m\u001b[1;32mTrue\u001b[0m\u001b[1;33m\u001b[0m\u001b[1;33m\u001b[0m\u001b[0m\n",
                        "\u001b[1;32md:\\pythonenv\\mlenv\\lib\\site-packages\\pandas\\core\\indexes\\base.py\u001b[0m in \u001b[0;36mtake\u001b[1;34m(self, indices, axis, allow_fill, fill_value, **kwargs)\u001b[0m\n\u001b[0;32m    749\u001b[0m         \u001b[1;31m# Note: we discard fill_value and use self._na_value, only relevant\u001b[0m\u001b[1;33m\u001b[0m\u001b[1;33m\u001b[0m\u001b[1;33m\u001b[0m\u001b[0m\n\u001b[0;32m    750\u001b[0m         \u001b[1;31m#  in the case where allow_fill is True and fill_value is not None\u001b[0m\u001b[1;33m\u001b[0m\u001b[1;33m\u001b[0m\u001b[1;33m\u001b[0m\u001b[0m\n\u001b[1;32m--> 751\u001b[1;33m         taken = algos.take(\n\u001b[0m\u001b[0;32m    752\u001b[0m             \u001b[0mself\u001b[0m\u001b[1;33m.\u001b[0m\u001b[0m_values\u001b[0m\u001b[1;33m,\u001b[0m \u001b[0mindices\u001b[0m\u001b[1;33m,\u001b[0m \u001b[0mallow_fill\u001b[0m\u001b[1;33m=\u001b[0m\u001b[0mallow_fill\u001b[0m\u001b[1;33m,\u001b[0m \u001b[0mfill_value\u001b[0m\u001b[1;33m=\u001b[0m\u001b[0mself\u001b[0m\u001b[1;33m.\u001b[0m\u001b[0m_na_value\u001b[0m\u001b[1;33m\u001b[0m\u001b[1;33m\u001b[0m\u001b[0m\n\u001b[0;32m    753\u001b[0m         )\n",
                        "\u001b[1;32md:\\pythonenv\\mlenv\\lib\\site-packages\\pandas\\core\\algorithms.py\u001b[0m in \u001b[0;36mtake\u001b[1;34m(arr, indices, axis, allow_fill, fill_value)\u001b[0m\n\u001b[0;32m   1655\u001b[0m     \u001b[1;32melse\u001b[0m\u001b[1;33m:\u001b[0m\u001b[1;33m\u001b[0m\u001b[1;33m\u001b[0m\u001b[0m\n\u001b[0;32m   1656\u001b[0m         \u001b[1;31m# NumPy style\u001b[0m\u001b[1;33m\u001b[0m\u001b[1;33m\u001b[0m\u001b[1;33m\u001b[0m\u001b[0m\n\u001b[1;32m-> 1657\u001b[1;33m         \u001b[0mresult\u001b[0m \u001b[1;33m=\u001b[0m \u001b[0marr\u001b[0m\u001b[1;33m.\u001b[0m\u001b[0mtake\u001b[0m\u001b[1;33m(\u001b[0m\u001b[0mindices\u001b[0m\u001b[1;33m,\u001b[0m \u001b[0maxis\u001b[0m\u001b[1;33m=\u001b[0m\u001b[0maxis\u001b[0m\u001b[1;33m)\u001b[0m\u001b[1;33m\u001b[0m\u001b[1;33m\u001b[0m\u001b[0m\n\u001b[0m\u001b[0;32m   1658\u001b[0m     \u001b[1;32mreturn\u001b[0m \u001b[0mresult\u001b[0m\u001b[1;33m\u001b[0m\u001b[1;33m\u001b[0m\u001b[0m\n\u001b[0;32m   1659\u001b[0m \u001b[1;33m\u001b[0m\u001b[0m\n",
                        "\u001b[1;31mMemoryError\u001b[0m: Unable to allocate 1.47 GiB for an array with shape (197738168,) and data type int64"
                    ]
                }
            ],
            "metadata": {}
        }
    ],
    "metadata": {
        "orig_nbformat": 4,
        "language_info": {
            "name": "python"
        }
    },
    "nbformat": 4,
    "nbformat_minor": 2
}